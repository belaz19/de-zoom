{
  "cells": [
    {
      "cell_type": "markdown",
      "metadata": {
        "id": "mrTFv5nPClXh"
      },
      "source": [
        "# **Homework**: Data talks club data engineering zoomcamp Data loading workshop\n",
        "\n",
        "Hello folks, let's practice what we learned - Loading data with the best practices of data engineering.\n",
        "\n",
        "Here are the exercises we will do\n",
        "\n",
        "\n"
      ]
    },
    {
      "cell_type": "markdown",
      "metadata": {
        "id": "wLF4iXf-NR7t"
      },
      "source": [
        "# 1. Use a generator\n",
        "\n",
        "Remember the concept of generator? Let's practice using them to futher our understanding of how they work.\n",
        "\n",
        "Let's define a generator and then run it as practice.\n",
        "\n",
        "**Answer the following questions:**\n",
        "\n",
        "- **Question 1: What is the sum of the outputs of the generator for limit = 5?**\n",
        "- **Question 2: What is the 13th number yielded**\n",
        "\n",
        "I suggest practicing these questions without GPT as the purpose is to further your learning."
      ]
    },
    {
      "cell_type": "code",
      "execution_count": 10,
      "metadata": {
        "colab": {
          "base_uri": "https://localhost:8080/"
        },
        "id": "wLng-bDJN4jf",
        "outputId": "547683cb-5f56-4815-a903-d0d9578eb1f9"
      },
      "outputs": [
        {
          "name": "stdout",
          "output_type": "stream",
          "text": [
            "sqrt is  1.0\n",
            "sum is  1.0\n",
            "sqrt is  1.4142135623730951\n",
            "sum is  2.414213562373095\n",
            "sqrt is  1.7320508075688772\n",
            "sum is  4.146264369941973\n",
            "sqrt is  2.0\n",
            "sum is  6.146264369941973\n",
            "sqrt is  2.23606797749979\n",
            "sum is  8.382332347441762\n",
            "sqrt is  2.449489742783178\n",
            "sum is  10.83182209022494\n",
            "sqrt is  2.6457513110645907\n",
            "sum is  13.47757340128953\n",
            "sqrt is  2.8284271247461903\n",
            "sum is  16.30600052603572\n",
            "sqrt is  3.0\n",
            "sum is  19.30600052603572\n",
            "sqrt is  3.1622776601683795\n",
            "sum is  22.4682781862041\n",
            "sqrt is  3.3166247903554\n",
            "sum is  25.7849029765595\n",
            "sqrt is  3.4641016151377544\n",
            "sum is  29.249004591697254\n",
            "sqrt is  3.605551275463989\n",
            "sum is  32.854555867161245\n"
          ]
        }
      ],
      "source": [
        "def square_root_generator(limit):\n",
        "    n = 1\n",
        "    while n <= limit:\n",
        "        yield n ** 0.5\n",
        "        n += 1\n",
        "\n",
        "# Example usage:\n",
        "limit = 13\n",
        "generator = square_root_generator(limit)\n",
        "s = 0\n",
        "\n",
        "for sqrt_value in generator:\n",
        "    print(\"sqrt is \", sqrt_value)\n",
        "    s += sqrt_value\n",
        "    print(\"sum is \", s)\n"
      ]
    },
    {
      "cell_type": "markdown",
      "metadata": {
        "id": "xbe3q55zN43j"
      },
      "source": []
    },
    {
      "cell_type": "markdown",
      "metadata": {
        "id": "vjWhILzGJMpK"
      },
      "source": [
        "# 2. Append a generator to a table with existing data\n",
        "\n",
        "\n",
        "Below you have 2 generators. You will be tasked to load them to duckdb and answer some questions from the data\n",
        "\n",
        "1. Load the first generator and calculate the sum of ages of all people. Make sure to only load it once.\n",
        "2. Append the second generator to the same table as the first.\n",
        "3. **After correctly appending the data, calculate the sum of all ages of people.**\n",
        "\n",
        "\n"
      ]
    },
    {
      "cell_type": "code",
      "execution_count": 12,
      "metadata": {
        "colab": {
          "base_uri": "https://localhost:8080/"
        },
        "id": "2MoaQcdLBEk6",
        "outputId": "d2b93dc1-d83f-44ea-aeff-fdf51d75f7aa"
      },
      "outputs": [
        {
          "name": "stdout",
          "output_type": "stream",
          "text": [
            "{'ID': 1, 'Name': 'Person_1', 'Age': 26, 'City': 'City_A'}\n",
            "{'ID': 2, 'Name': 'Person_2', 'Age': 27, 'City': 'City_A'}\n",
            "{'ID': 3, 'Name': 'Person_3', 'Age': 28, 'City': 'City_A'}\n",
            "{'ID': 4, 'Name': 'Person_4', 'Age': 29, 'City': 'City_A'}\n",
            "{'ID': 5, 'Name': 'Person_5', 'Age': 30, 'City': 'City_A'}\n",
            "{'ID': 3, 'Name': 'Person_3', 'Age': 33, 'City': 'City_B', 'Occupation': 'Job_3'}\n",
            "{'ID': 4, 'Name': 'Person_4', 'Age': 34, 'City': 'City_B', 'Occupation': 'Job_4'}\n",
            "{'ID': 5, 'Name': 'Person_5', 'Age': 35, 'City': 'City_B', 'Occupation': 'Job_5'}\n",
            "{'ID': 6, 'Name': 'Person_6', 'Age': 36, 'City': 'City_B', 'Occupation': 'Job_6'}\n",
            "{'ID': 7, 'Name': 'Person_7', 'Age': 37, 'City': 'City_B', 'Occupation': 'Job_7'}\n",
            "{'ID': 8, 'Name': 'Person_8', 'Age': 38, 'City': 'City_B', 'Occupation': 'Job_8'}\n"
          ]
        }
      ],
      "source": [
        "def people_1():\n",
        "    for i in range(1, 6):\n",
        "        yield {\"ID\": i, \"Name\": f\"Person_{i}\", \"Age\": 25 + i, \"City\": \"City_A\"}\n",
        "\n",
        "for person in people_1():\n",
        "    print(person)\n",
        "\n",
        "\n",
        "def people_2():\n",
        "    for i in range(3, 9):\n",
        "        yield {\"ID\": i, \"Name\": f\"Person_{i}\", \"Age\": 30 + i, \"City\": \"City_B\", \"Occupation\": f\"Job_{i}\"}\n",
        "\n",
        "\n",
        "for person in people_2():\n",
        "    print(person)\n"
      ]
    },
    {
      "cell_type": "code",
      "execution_count": 15,
      "metadata": {},
      "outputs": [
        {
          "name": "stdout",
          "output_type": "stream",
          "text": [
            "Collecting dlt[duckdb]\n",
            "  Using cached dlt-0.4.4-py3-none-any.whl (540 kB)\n",
            "Collecting pytz>=2022.6\n",
            "  Downloading pytz-2024.1-py2.py3-none-any.whl (505 kB)\n",
            "\u001b[K     |████████████████████████████████| 505 kB 14.0 MB/s eta 0:00:01\n",
            "\u001b[?25hCollecting jsonpath-ng>=1.5.3\n",
            "  Using cached jsonpath_ng-1.6.1-py3-none-any.whl (29 kB)\n",
            "Requirement already satisfied: packaging>=21.1 in /home/belaz/.local/lib/python3.8/site-packages (from dlt[duckdb]) (23.2)\n",
            "Collecting click>=7.1\n",
            "  Downloading click-8.1.7-py3-none-any.whl (97 kB)\n",
            "\u001b[K     |████████████████████████████████| 97 kB 5.0 MB/s  eta 0:00:01\n",
            "\u001b[?25hRequirement already satisfied: pendulum>=2.1.2 in /home/belaz/.local/lib/python3.8/site-packages (from dlt[duckdb]) (3.0.0)\n",
            "Collecting setuptools>=65.6.0\n",
            "  Downloading setuptools-69.1.0-py3-none-any.whl (819 kB)\n",
            "\u001b[K     |████████████████████████████████| 819 kB 45.5 MB/s eta 0:00:01\n",
            "\u001b[?25hCollecting gitpython>=3.1.29\n",
            "  Downloading GitPython-3.1.42-py3-none-any.whl (195 kB)\n",
            "\u001b[K     |████████████████████████████████| 195 kB 74.1 MB/s eta 0:00:01\n",
            "\u001b[?25hCollecting makefun>=1.15.0\n",
            "  Using cached makefun-1.15.2-py2.py3-none-any.whl (22 kB)\n",
            "Collecting tomlkit>=0.11.3\n",
            "  Using cached tomlkit-0.12.3-py3-none-any.whl (37 kB)\n",
            "Collecting requests>=2.26.0\n",
            "  Downloading requests-2.31.0-py3-none-any.whl (62 kB)\n",
            "\u001b[K     |████████████████████████████████| 62 kB 2.0 MB/s  eta 0:00:01\n",
            "\u001b[?25hCollecting humanize>=4.4.0\n",
            "  Using cached humanize-4.9.0-py3-none-any.whl (126 kB)\n",
            "Collecting simplejson>=3.17.5\n",
            "  Downloading simplejson-3.19.2-cp38-cp38-manylinux_2_5_x86_64.manylinux1_x86_64.manylinux_2_17_x86_64.manylinux2014_x86_64.whl (136 kB)\n",
            "\u001b[K     |████████████████████████████████| 136 kB 42.6 MB/s eta 0:00:01\n",
            "\u001b[?25hCollecting giturlparse>=0.10.0\n",
            "  Using cached giturlparse-0.12.0-py2.py3-none-any.whl (15 kB)\n",
            "Collecting SQLAlchemy>=1.4.0\n",
            "  Downloading SQLAlchemy-2.0.27-cp38-cp38-manylinux_2_17_x86_64.manylinux2014_x86_64.whl (3.1 MB)\n",
            "\u001b[K     |████████████████████████████████| 3.1 MB 65.6 MB/s eta 0:00:01\n",
            "\u001b[?25hCollecting semver>=2.13.0\n",
            "  Downloading semver-3.0.2-py3-none-any.whl (17 kB)\n",
            "Collecting tenacity>=8.0.2\n",
            "  Downloading tenacity-8.2.3-py3-none-any.whl (24 kB)\n",
            "Collecting astunparse>=1.6.3\n",
            "  Using cached astunparse-1.6.3-py2.py3-none-any.whl (12 kB)\n",
            "Collecting requirements-parser>=0.5.0\n",
            "  Using cached requirements_parser-0.5.0-py3-none-any.whl (18 kB)\n",
            "Requirement already satisfied: typing-extensions>=4.0.0 in /home/belaz/.local/lib/python3.8/site-packages (from dlt[duckdb]) (4.9.0)\n",
            "Collecting fsspec>=2022.4.0\n",
            "  Downloading fsspec-2024.2.0-py3-none-any.whl (170 kB)\n",
            "\u001b[K     |████████████████████████████████| 170 kB 47.9 MB/s eta 0:00:01\n",
            "\u001b[?25hCollecting hexbytes>=0.2.2\n",
            "  Using cached hexbytes-1.0.0-py3-none-any.whl (5.9 kB)\n",
            "Requirement already satisfied: tzdata>=2022.1 in /home/belaz/.local/lib/python3.8/site-packages (from dlt[duckdb]) (2023.4)\n",
            "Collecting pathvalidate>=2.5.2\n",
            "  Using cached pathvalidate-3.2.0-py3-none-any.whl (23 kB)\n",
            "Collecting PyYAML>=5.4.1\n",
            "  Downloading PyYAML-6.0.1-cp38-cp38-manylinux_2_17_x86_64.manylinux2014_x86_64.whl (736 kB)\n",
            "\u001b[K     |████████████████████████████████| 736 kB 52.5 MB/s eta 0:00:01\n",
            "\u001b[?25hCollecting orjson<=3.9.10,>=3.6.7; platform_python_implementation != \"PyPy\"\n",
            "  Downloading orjson-3.9.10-cp38-cp38-manylinux_2_17_x86_64.manylinux2014_x86_64.whl (138 kB)\n",
            "\u001b[K     |████████████████████████████████| 138 kB 46.4 MB/s eta 0:00:01\n",
            "\u001b[?25hCollecting duckdb<0.10.0,>=0.6.1; extra == \"duckdb\" or extra == \"motherduck\"\n",
            "  Downloading duckdb-0.9.2-cp38-cp38-manylinux_2_17_x86_64.manylinux2014_x86_64.whl (16.5 MB)\n",
            "\u001b[K     |████████████████████████████████| 16.5 MB 31.9 MB/s eta 0:00:01\n",
            "\u001b[?25hCollecting ply\n",
            "  Downloading ply-3.11-py2.py3-none-any.whl (49 kB)\n",
            "\u001b[K     |████████████████████████████████| 49 kB 7.9 MB/s  eta 0:00:01\n",
            "\u001b[?25hRequirement already satisfied: time-machine>=2.6.0; implementation_name != \"pypy\" in /home/belaz/.local/lib/python3.8/site-packages (from pendulum>=2.1.2->dlt[duckdb]) (2.13.0)\n",
            "Requirement already satisfied: python-dateutil>=2.6 in /home/belaz/.local/lib/python3.8/site-packages (from pendulum>=2.1.2->dlt[duckdb]) (2.8.2)\n",
            "Requirement already satisfied: importlib-resources>=5.9.0; python_version < \"3.9\" in /home/belaz/.local/lib/python3.8/site-packages (from pendulum>=2.1.2->dlt[duckdb]) (6.1.1)\n",
            "Requirement already satisfied: backports.zoneinfo>=0.2.1; python_version < \"3.9\" in /home/belaz/.local/lib/python3.8/site-packages (from pendulum>=2.1.2->dlt[duckdb]) (0.2.1)\n",
            "Collecting gitdb<5,>=4.0.1\n",
            "  Using cached gitdb-4.0.11-py3-none-any.whl (62 kB)\n",
            "Requirement already satisfied: certifi>=2017.4.17 in /usr/lib/python3/dist-packages (from requests>=2.26.0->dlt[duckdb]) (2019.11.28)\n",
            "Requirement already satisfied: urllib3<3,>=1.21.1 in /usr/lib/python3/dist-packages (from requests>=2.26.0->dlt[duckdb]) (1.25.8)\n",
            "Collecting charset-normalizer<4,>=2\n",
            "  Downloading charset_normalizer-3.3.2-cp38-cp38-manylinux_2_17_x86_64.manylinux2014_x86_64.whl (141 kB)\n",
            "\u001b[K     |████████████████████████████████| 141 kB 38.0 MB/s eta 0:00:01\n",
            "\u001b[?25hRequirement already satisfied: idna<4,>=2.5 in /usr/lib/python3/dist-packages (from requests>=2.26.0->dlt[duckdb]) (2.8)\n",
            "Collecting greenlet!=0.4.17; platform_machine == \"aarch64\" or (platform_machine == \"ppc64le\" or (platform_machine == \"x86_64\" or (platform_machine == \"amd64\" or (platform_machine == \"AMD64\" or (platform_machine == \"win32\" or platform_machine == \"WIN32\")))))\n",
            "  Downloading greenlet-3.0.3-cp38-cp38-manylinux_2_17_x86_64.manylinux2014_x86_64.whl (667 kB)\n",
            "\u001b[K     |████████████████████████████████| 667 kB 46.5 MB/s eta 0:00:01\n",
            "\u001b[?25hRequirement already satisfied: six<2.0,>=1.6.1 in /usr/lib/python3/dist-packages (from astunparse>=1.6.3->dlt[duckdb]) (1.14.0)\n",
            "Requirement already satisfied: wheel<1.0,>=0.23.0 in /usr/lib/python3/dist-packages (from astunparse>=1.6.3->dlt[duckdb]) (0.34.2)\n",
            "Collecting types-setuptools>=57.0.0\n",
            "  Downloading types_setuptools-69.1.0.20240217-py3-none-any.whl (51 kB)\n",
            "\u001b[K     |████████████████████████████████| 51 kB 754 kB/s  eta 0:00:01\n",
            "\u001b[?25hRequirement already satisfied: zipp>=3.1.0; python_version < \"3.10\" in /home/belaz/.local/lib/python3.8/site-packages (from importlib-resources>=5.9.0; python_version < \"3.9\"->pendulum>=2.1.2->dlt[duckdb]) (3.17.0)\n",
            "Collecting smmap<6,>=3.0.1\n",
            "  Using cached smmap-5.0.1-py3-none-any.whl (24 kB)\n",
            "\u001b[31mERROR: launchpadlib 1.10.13 requires testresources, which is not installed.\u001b[0m\n",
            "Installing collected packages: pytz, ply, jsonpath-ng, click, setuptools, smmap, gitdb, gitpython, makefun, tomlkit, charset-normalizer, requests, humanize, simplejson, giturlparse, greenlet, SQLAlchemy, semver, tenacity, astunparse, types-setuptools, requirements-parser, fsspec, hexbytes, pathvalidate, PyYAML, orjson, duckdb, dlt\n",
            "Successfully installed PyYAML-6.0.1 SQLAlchemy-2.0.27 astunparse-1.6.3 charset-normalizer-3.3.2 click-8.1.7 dlt-0.4.4 duckdb-0.9.2 fsspec-2024.2.0 gitdb-4.0.11 gitpython-3.1.42 giturlparse-0.12.0 greenlet-3.0.3 hexbytes-1.0.0 humanize-4.9.0 jsonpath-ng-1.6.1 makefun-1.15.2 orjson-3.9.10 pathvalidate-3.2.0 ply-3.11 pytz-2024.1 requests-2.31.0 requirements-parser-0.5.0 semver-3.0.2 setuptools-69.1.0 simplejson-3.19.2 smmap-5.0.1 tenacity-8.2.3 tomlkit-0.12.3 types-setuptools-69.1.0.20240217\n",
            "Note: you may need to restart the kernel to use updated packages.\n"
          ]
        }
      ],
      "source": [
        "#pip install dlt[duckdb]"
      ]
    },
    {
      "cell_type": "code",
      "execution_count": 16,
      "metadata": {},
      "outputs": [],
      "source": [
        "import dlt\n",
        "import duckdb"
      ]
    },
    {
      "cell_type": "code",
      "execution_count": 18,
      "metadata": {},
      "outputs": [],
      "source": [
        "# define the connection to load data\n",
        "pipeline=dlt.pipeline(destination='duckdb', dataset_name='people_1_2')"
      ]
    },
    {
      "cell_type": "code",
      "execution_count": 23,
      "metadata": {},
      "outputs": [
        {
          "name": "stdout",
          "output_type": "stream",
          "text": [
            "{'ID': 1, 'Name': 'Person_1', 'Age': 26, 'City': 'City_A'}\n"
          ]
        },
        {
          "name": "stdout",
          "output_type": "stream",
          "text": [
            "{'ID': 2, 'Name': 'Person_2', 'Age': 27, 'City': 'City_A'}\n",
            "{'ID': 3, 'Name': 'Person_3', 'Age': 28, 'City': 'City_A'}\n",
            "{'ID': 4, 'Name': 'Person_4', 'Age': 29, 'City': 'City_A'}\n",
            "{'ID': 5, 'Name': 'Person_5', 'Age': 30, 'City': 'City_A'}\n"
          ]
        }
      ],
      "source": [
        "def people_1():\n",
        "    for i in range(1, 6):\n",
        "        yield {\"ID\": i, \"Name\": f\"Person_{i}\", \"Age\": 25 + i, \"City\": \"City_A\"}\n",
        "\n",
        "for person in people_1():\n",
        "    print(person)\n",
        "    # I have done this ingestion below one time!\n",
        "    #data = [person]\n",
        "    #info=pipeline.run(data, table_name=\"people_table\", write_disposition=\"append\", primary_key='ID')"
      ]
    },
    {
      "cell_type": "code",
      "execution_count": 25,
      "metadata": {},
      "outputs": [],
      "source": [
        "# show the outcome\n",
        "conn = duckdb.connect(f\"{pipeline.pipeline_name}.duckdb\")"
      ]
    },
    {
      "cell_type": "code",
      "execution_count": 40,
      "metadata": {},
      "outputs": [
        {
          "name": "stdout",
          "output_type": "stream",
          "text": [
            "Loaded tables: \n"
          ]
        },
        {
          "data": {
            "text/plain": [
              "┌─────────────────────┐\n",
              "│        name         │\n",
              "│       varchar       │\n",
              "├─────────────────────┤\n",
              "│ _dlt_loads          │\n",
              "│ _dlt_pipeline_state │\n",
              "│ _dlt_version        │\n",
              "│ people_merge        │\n",
              "│ people_table        │\n",
              "└─────────────────────┘"
            ]
          },
          "metadata": {},
          "output_type": "display_data"
        }
      ],
      "source": [
        "# let's see the tables\n",
        "conn.sql(f\"SET search_path = '{pipeline.dataset_name}'\")\n",
        "print('Loaded tables: ')\n",
        "display(conn.sql(\"show tables\"))"
      ]
    },
    {
      "cell_type": "code",
      "execution_count": 31,
      "metadata": {},
      "outputs": [
        {
          "name": "stdout",
          "output_type": "stream",
          "text": [
            "Collecting numpy\n",
            "  Downloading numpy-1.24.4-cp38-cp38-manylinux_2_17_x86_64.manylinux2014_x86_64.whl (17.3 MB)\n",
            "\u001b[K     |████████████████████████████████| 17.3 MB 11.9 MB/s eta 0:00:01    |███                             | 1.6 MB 11.9 MB/s eta 0:00:02\n",
            "\u001b[?25hInstalling collected packages: numpy\n",
            "Successfully installed numpy-1.24.4\n",
            "Note: you may need to restart the kernel to use updated packages.\n"
          ]
        }
      ],
      "source": [
        "#pip install numpy"
      ]
    },
    {
      "cell_type": "code",
      "execution_count": 32,
      "metadata": {},
      "outputs": [
        {
          "name": "stdout",
          "output_type": "stream",
          "text": [
            "Collecting pandas\n",
            "  Downloading pandas-2.0.3-cp38-cp38-manylinux_2_17_x86_64.manylinux2014_x86_64.whl (12.4 MB)\n",
            "\u001b[K     |████████████████████████████████| 12.4 MB 13.8 MB/s eta 0:00:01\n",
            "\u001b[?25hRequirement already satisfied: pytz>=2020.1 in /home/belaz/.local/lib/python3.8/site-packages (from pandas) (2024.1)\n",
            "Requirement already satisfied: python-dateutil>=2.8.2 in /home/belaz/.local/lib/python3.8/site-packages (from pandas) (2.8.2)\n",
            "Requirement already satisfied: tzdata>=2022.1 in /home/belaz/.local/lib/python3.8/site-packages (from pandas) (2023.4)\n",
            "Requirement already satisfied: numpy>=1.20.3; python_version < \"3.10\" in /home/belaz/.local/lib/python3.8/site-packages (from pandas) (1.24.4)\n",
            "Requirement already satisfied: six>=1.5 in /usr/lib/python3/dist-packages (from python-dateutil>=2.8.2->pandas) (1.14.0)\n",
            "Installing collected packages: pandas\n",
            "Successfully installed pandas-2.0.3\n",
            "Note: you may need to restart the kernel to use updated packages.\n"
          ]
        }
      ],
      "source": [
        "#pip install pandas"
      ]
    },
    {
      "cell_type": "code",
      "execution_count": 33,
      "metadata": {},
      "outputs": [],
      "source": [
        "import numpy as np\n",
        "import pandas as pd"
      ]
    },
    {
      "cell_type": "code",
      "execution_count": 37,
      "metadata": {},
      "outputs": [
        {
          "data": {
            "text/html": [
              "<div>\n",
              "<style scoped>\n",
              "    .dataframe tbody tr th:only-of-type {\n",
              "        vertical-align: middle;\n",
              "    }\n",
              "\n",
              "    .dataframe tbody tr th {\n",
              "        vertical-align: top;\n",
              "    }\n",
              "\n",
              "    .dataframe thead th {\n",
              "        text-align: right;\n",
              "    }\n",
              "</style>\n",
              "<table border=\"1\" class=\"dataframe\">\n",
              "  <thead>\n",
              "    <tr style=\"text-align: right;\">\n",
              "      <th></th>\n",
              "      <th>id</th>\n",
              "      <th>name</th>\n",
              "      <th>age</th>\n",
              "      <th>city</th>\n",
              "      <th>_dlt_load_id</th>\n",
              "      <th>_dlt_id</th>\n",
              "      <th>occupation</th>\n",
              "    </tr>\n",
              "  </thead>\n",
              "  <tbody>\n",
              "    <tr>\n",
              "      <th>0</th>\n",
              "      <td>1</td>\n",
              "      <td>Person_1</td>\n",
              "      <td>26</td>\n",
              "      <td>City_A</td>\n",
              "      <td>1708285309.7502055</td>\n",
              "      <td>LeO88/8JsLmloA</td>\n",
              "      <td>None</td>\n",
              "    </tr>\n",
              "    <tr>\n",
              "      <th>1</th>\n",
              "      <td>2</td>\n",
              "      <td>Person_2</td>\n",
              "      <td>27</td>\n",
              "      <td>City_A</td>\n",
              "      <td>1708285310.808763</td>\n",
              "      <td>h0HzEdP/MQ/iRg</td>\n",
              "      <td>None</td>\n",
              "    </tr>\n",
              "    <tr>\n",
              "      <th>2</th>\n",
              "      <td>3</td>\n",
              "      <td>Person_3</td>\n",
              "      <td>28</td>\n",
              "      <td>City_A</td>\n",
              "      <td>1708285311.6465044</td>\n",
              "      <td>NDbbDrG8rEIP4Q</td>\n",
              "      <td>None</td>\n",
              "    </tr>\n",
              "    <tr>\n",
              "      <th>3</th>\n",
              "      <td>4</td>\n",
              "      <td>Person_4</td>\n",
              "      <td>29</td>\n",
              "      <td>City_A</td>\n",
              "      <td>1708285312.4802258</td>\n",
              "      <td>i5o78xobP7nBiw</td>\n",
              "      <td>None</td>\n",
              "    </tr>\n",
              "    <tr>\n",
              "      <th>4</th>\n",
              "      <td>5</td>\n",
              "      <td>Person_5</td>\n",
              "      <td>30</td>\n",
              "      <td>City_A</td>\n",
              "      <td>1708285313.3102412</td>\n",
              "      <td>xuG4wVFa3uYHRA</td>\n",
              "      <td>None</td>\n",
              "    </tr>\n",
              "    <tr>\n",
              "      <th>5</th>\n",
              "      <td>3</td>\n",
              "      <td>Person_3</td>\n",
              "      <td>33</td>\n",
              "      <td>City_B</td>\n",
              "      <td>1708287223.415842</td>\n",
              "      <td>+bI084lXrxy6rg</td>\n",
              "      <td>Job_3</td>\n",
              "    </tr>\n",
              "    <tr>\n",
              "      <th>6</th>\n",
              "      <td>4</td>\n",
              "      <td>Person_4</td>\n",
              "      <td>34</td>\n",
              "      <td>City_B</td>\n",
              "      <td>1708287224.0749412</td>\n",
              "      <td>zgI6K65iZYnu8g</td>\n",
              "      <td>Job_4</td>\n",
              "    </tr>\n",
              "    <tr>\n",
              "      <th>7</th>\n",
              "      <td>5</td>\n",
              "      <td>Person_5</td>\n",
              "      <td>35</td>\n",
              "      <td>City_B</td>\n",
              "      <td>1708287224.6665814</td>\n",
              "      <td>KRS+PKHYPM4dNA</td>\n",
              "      <td>Job_5</td>\n",
              "    </tr>\n",
              "    <tr>\n",
              "      <th>8</th>\n",
              "      <td>6</td>\n",
              "      <td>Person_6</td>\n",
              "      <td>36</td>\n",
              "      <td>City_B</td>\n",
              "      <td>1708287225.2583673</td>\n",
              "      <td>TfEa+qCH+++v7Q</td>\n",
              "      <td>Job_6</td>\n",
              "    </tr>\n",
              "    <tr>\n",
              "      <th>9</th>\n",
              "      <td>7</td>\n",
              "      <td>Person_7</td>\n",
              "      <td>37</td>\n",
              "      <td>City_B</td>\n",
              "      <td>1708287225.848991</td>\n",
              "      <td>FBrbWBshrMErwg</td>\n",
              "      <td>Job_7</td>\n",
              "    </tr>\n",
              "    <tr>\n",
              "      <th>10</th>\n",
              "      <td>8</td>\n",
              "      <td>Person_8</td>\n",
              "      <td>38</td>\n",
              "      <td>City_B</td>\n",
              "      <td>1708287226.441351</td>\n",
              "      <td>clP9/iNtRMT2zA</td>\n",
              "      <td>Job_8</td>\n",
              "    </tr>\n",
              "  </tbody>\n",
              "</table>\n",
              "</div>"
            ],
            "text/plain": [
              "    id      name  age    city        _dlt_load_id         _dlt_id occupation\n",
              "0    1  Person_1   26  City_A  1708285309.7502055  LeO88/8JsLmloA       None\n",
              "1    2  Person_2   27  City_A   1708285310.808763  h0HzEdP/MQ/iRg       None\n",
              "2    3  Person_3   28  City_A  1708285311.6465044  NDbbDrG8rEIP4Q       None\n",
              "3    4  Person_4   29  City_A  1708285312.4802258  i5o78xobP7nBiw       None\n",
              "4    5  Person_5   30  City_A  1708285313.3102412  xuG4wVFa3uYHRA       None\n",
              "5    3  Person_3   33  City_B   1708287223.415842  +bI084lXrxy6rg      Job_3\n",
              "6    4  Person_4   34  City_B  1708287224.0749412  zgI6K65iZYnu8g      Job_4\n",
              "7    5  Person_5   35  City_B  1708287224.6665814  KRS+PKHYPM4dNA      Job_5\n",
              "8    6  Person_6   36  City_B  1708287225.2583673  TfEa+qCH+++v7Q      Job_6\n",
              "9    7  Person_7   37  City_B   1708287225.848991  FBrbWBshrMErwg      Job_7\n",
              "10   8  Person_8   38  City_B   1708287226.441351  clP9/iNtRMT2zA      Job_8"
            ]
          },
          "metadata": {},
          "output_type": "display_data"
        }
      ],
      "source": [
        "# print all\n",
        "people_sql = conn.sql(\"SELECT * FROM people_table\").df()\n",
        "display(people_sql)"
      ]
    },
    {
      "cell_type": "code",
      "execution_count": 35,
      "metadata": {},
      "outputs": [
        {
          "name": "stdout",
          "output_type": "stream",
          "text": [
            "{'ID': 3, 'Name': 'Person_3', 'Age': 33, 'City': 'City_B', 'Occupation': 'Job_3'}\n",
            "{'ID': 4, 'Name': 'Person_4', 'Age': 34, 'City': 'City_B', 'Occupation': 'Job_4'}\n",
            "{'ID': 5, 'Name': 'Person_5', 'Age': 35, 'City': 'City_B', 'Occupation': 'Job_5'}\n",
            "{'ID': 6, 'Name': 'Person_6', 'Age': 36, 'City': 'City_B', 'Occupation': 'Job_6'}\n",
            "{'ID': 7, 'Name': 'Person_7', 'Age': 37, 'City': 'City_B', 'Occupation': 'Job_7'}\n",
            "{'ID': 8, 'Name': 'Person_8', 'Age': 38, 'City': 'City_B', 'Occupation': 'Job_8'}\n"
          ]
        }
      ],
      "source": [
        "def people_2():\n",
        "    for i in range(3, 9):\n",
        "        yield {\"ID\": i, \"Name\": f\"Person_{i}\", \"Age\": 30 + i, \"City\": \"City_B\", \"Occupation\": f\"Job_{i}\"}\n",
        "\n",
        "\n",
        "for person in people_2():\n",
        "    print(person)\n",
        "\n",
        "    # I have done this ingestion below one time!\n",
        "    #data = [person]\n",
        "    #info=pipeline.run(data, table_name=\"people_table\", write_disposition=\"append\", primary_key='ID')"
      ]
    },
    {
      "cell_type": "code",
      "execution_count": 38,
      "metadata": {},
      "outputs": [
        {
          "data": {
            "text/html": [
              "<div>\n",
              "<style scoped>\n",
              "    .dataframe tbody tr th:only-of-type {\n",
              "        vertical-align: middle;\n",
              "    }\n",
              "\n",
              "    .dataframe tbody tr th {\n",
              "        vertical-align: top;\n",
              "    }\n",
              "\n",
              "    .dataframe thead th {\n",
              "        text-align: right;\n",
              "    }\n",
              "</style>\n",
              "<table border=\"1\" class=\"dataframe\">\n",
              "  <thead>\n",
              "    <tr style=\"text-align: right;\">\n",
              "      <th></th>\n",
              "      <th>sum(age)</th>\n",
              "    </tr>\n",
              "  </thead>\n",
              "  <tbody>\n",
              "    <tr>\n",
              "      <th>0</th>\n",
              "      <td>353.0</td>\n",
              "    </tr>\n",
              "  </tbody>\n",
              "</table>\n",
              "</div>"
            ],
            "text/plain": [
              "   sum(age)\n",
              "0     353.0"
            ]
          },
          "metadata": {},
          "output_type": "display_data"
        }
      ],
      "source": [
        "# print sum age\n",
        "people_sql = conn.sql(\"SELECT sum(age) FROM people_table\").df()\n",
        "display(people_sql)"
      ]
    },
    {
      "cell_type": "markdown",
      "metadata": {
        "id": "vtdTIm4fvQCN"
      },
      "source": []
    },
    {
      "cell_type": "markdown",
      "metadata": {
        "id": "pY4cFAWOSwN1"
      },
      "source": [
        "# 3. Merge a generator\n",
        "\n",
        "Re-use the generators from Exercise 2.\n",
        "\n",
        "A table's primary key needs to be created from the start, so load your data to a new table with primary key ID.\n",
        "\n",
        "Load your first generator first, and then load the second one with merge. Since they have overlapping IDs, some of the records from the first load should be replaced by the ones from the second load.\n",
        "\n",
        "After loading, you should have a total of 8 records, and ID 3 should have age 33.\n",
        "\n",
        "Question: **Calculate the sum of ages of all the people loaded as described above.**\n"
      ]
    },
    {
      "cell_type": "code",
      "execution_count": 39,
      "metadata": {},
      "outputs": [
        {
          "name": "stdout",
          "output_type": "stream",
          "text": [
            "{'ID': 1, 'Name': 'Person_1', 'Age': 26, 'City': 'City_A'}\n",
            "{'ID': 2, 'Name': 'Person_2', 'Age': 27, 'City': 'City_A'}\n",
            "{'ID': 3, 'Name': 'Person_3', 'Age': 28, 'City': 'City_A'}\n",
            "{'ID': 4, 'Name': 'Person_4', 'Age': 29, 'City': 'City_A'}\n",
            "{'ID': 5, 'Name': 'Person_5', 'Age': 30, 'City': 'City_A'}\n"
          ]
        }
      ],
      "source": [
        "def people_1():\n",
        "    for i in range(1, 6):\n",
        "        yield {\"ID\": i, \"Name\": f\"Person_{i}\", \"Age\": 25 + i, \"City\": \"City_A\"}\n",
        "\n",
        "for person in people_1():\n",
        "    print(person)\n",
        "    # I have done this ingestion below one time!\n",
        "    #data = [person]\n",
        "    #info=pipeline.run(data, table_name=\"people_merge\", write_disposition=\"merge\", primary_key='ID')"
      ]
    },
    {
      "cell_type": "code",
      "execution_count": 42,
      "metadata": {},
      "outputs": [
        {
          "name": "stdout",
          "output_type": "stream",
          "text": [
            "{'ID': 3, 'Name': 'Person_3', 'Age': 33, 'City': 'City_B', 'Occupation': 'Job_3'}\n",
            "{'ID': 4, 'Name': 'Person_4', 'Age': 34, 'City': 'City_B', 'Occupation': 'Job_4'}\n",
            "{'ID': 5, 'Name': 'Person_5', 'Age': 35, 'City': 'City_B', 'Occupation': 'Job_5'}\n",
            "{'ID': 6, 'Name': 'Person_6', 'Age': 36, 'City': 'City_B', 'Occupation': 'Job_6'}\n",
            "{'ID': 7, 'Name': 'Person_7', 'Age': 37, 'City': 'City_B', 'Occupation': 'Job_7'}\n",
            "{'ID': 8, 'Name': 'Person_8', 'Age': 38, 'City': 'City_B', 'Occupation': 'Job_8'}\n"
          ]
        }
      ],
      "source": [
        "def people_2():\n",
        "    for i in range(3, 9):\n",
        "        yield {\"ID\": i, \"Name\": f\"Person_{i}\", \"Age\": 30 + i, \"City\": \"City_B\", \"Occupation\": f\"Job_{i}\"}\n",
        "\n",
        "\n",
        "for person in people_2():\n",
        "    print(person)\n",
        "\n",
        "    # I have done this ingestion below one time!\n",
        "    #data = [person]\n",
        "    #info=pipeline.run(data, table_name=\"people_merge\", write_disposition=\"merge\", primary_key='ID')"
      ]
    },
    {
      "cell_type": "code",
      "execution_count": 44,
      "metadata": {},
      "outputs": [
        {
          "data": {
            "text/html": [
              "<div>\n",
              "<style scoped>\n",
              "    .dataframe tbody tr th:only-of-type {\n",
              "        vertical-align: middle;\n",
              "    }\n",
              "\n",
              "    .dataframe tbody tr th {\n",
              "        vertical-align: top;\n",
              "    }\n",
              "\n",
              "    .dataframe thead th {\n",
              "        text-align: right;\n",
              "    }\n",
              "</style>\n",
              "<table border=\"1\" class=\"dataframe\">\n",
              "  <thead>\n",
              "    <tr style=\"text-align: right;\">\n",
              "      <th></th>\n",
              "      <th>id</th>\n",
              "      <th>name</th>\n",
              "      <th>age</th>\n",
              "      <th>city</th>\n",
              "      <th>_dlt_load_id</th>\n",
              "      <th>_dlt_id</th>\n",
              "      <th>occupation</th>\n",
              "    </tr>\n",
              "  </thead>\n",
              "  <tbody>\n",
              "    <tr>\n",
              "      <th>0</th>\n",
              "      <td>1</td>\n",
              "      <td>Person_1</td>\n",
              "      <td>26</td>\n",
              "      <td>City_A</td>\n",
              "      <td>1708287700.950246</td>\n",
              "      <td>rE6oOuAX4In8ew</td>\n",
              "      <td>None</td>\n",
              "    </tr>\n",
              "    <tr>\n",
              "      <th>1</th>\n",
              "      <td>2</td>\n",
              "      <td>Person_2</td>\n",
              "      <td>27</td>\n",
              "      <td>City_A</td>\n",
              "      <td>1708287701.7903838</td>\n",
              "      <td>udonU1Qe7+p7Dw</td>\n",
              "      <td>None</td>\n",
              "    </tr>\n",
              "    <tr>\n",
              "      <th>2</th>\n",
              "      <td>3</td>\n",
              "      <td>Person_3</td>\n",
              "      <td>33</td>\n",
              "      <td>City_B</td>\n",
              "      <td>1708287819.5557678</td>\n",
              "      <td>XRH9ziipXR5Fgg</td>\n",
              "      <td>Job_3</td>\n",
              "    </tr>\n",
              "    <tr>\n",
              "      <th>3</th>\n",
              "      <td>4</td>\n",
              "      <td>Person_4</td>\n",
              "      <td>34</td>\n",
              "      <td>City_B</td>\n",
              "      <td>1708287820.4073668</td>\n",
              "      <td>7zVmyKApOfgbsA</td>\n",
              "      <td>Job_4</td>\n",
              "    </tr>\n",
              "    <tr>\n",
              "      <th>4</th>\n",
              "      <td>5</td>\n",
              "      <td>Person_5</td>\n",
              "      <td>35</td>\n",
              "      <td>City_B</td>\n",
              "      <td>1708287821.1766348</td>\n",
              "      <td>ZHGuUjozc8LEyA</td>\n",
              "      <td>Job_5</td>\n",
              "    </tr>\n",
              "    <tr>\n",
              "      <th>5</th>\n",
              "      <td>6</td>\n",
              "      <td>Person_6</td>\n",
              "      <td>36</td>\n",
              "      <td>City_B</td>\n",
              "      <td>1708287821.9459782</td>\n",
              "      <td>YE5uJxF3M/DdYw</td>\n",
              "      <td>Job_6</td>\n",
              "    </tr>\n",
              "    <tr>\n",
              "      <th>6</th>\n",
              "      <td>7</td>\n",
              "      <td>Person_7</td>\n",
              "      <td>37</td>\n",
              "      <td>City_B</td>\n",
              "      <td>1708287822.7125108</td>\n",
              "      <td>xTtfcsW2gvisCQ</td>\n",
              "      <td>Job_7</td>\n",
              "    </tr>\n",
              "    <tr>\n",
              "      <th>7</th>\n",
              "      <td>8</td>\n",
              "      <td>Person_8</td>\n",
              "      <td>38</td>\n",
              "      <td>City_B</td>\n",
              "      <td>1708287823.483286</td>\n",
              "      <td>8P+G9GcOVpxYVA</td>\n",
              "      <td>Job_8</td>\n",
              "    </tr>\n",
              "  </tbody>\n",
              "</table>\n",
              "</div>"
            ],
            "text/plain": [
              "   id      name  age    city        _dlt_load_id         _dlt_id occupation\n",
              "0   1  Person_1   26  City_A   1708287700.950246  rE6oOuAX4In8ew       None\n",
              "1   2  Person_2   27  City_A  1708287701.7903838  udonU1Qe7+p7Dw       None\n",
              "2   3  Person_3   33  City_B  1708287819.5557678  XRH9ziipXR5Fgg      Job_3\n",
              "3   4  Person_4   34  City_B  1708287820.4073668  7zVmyKApOfgbsA      Job_4\n",
              "4   5  Person_5   35  City_B  1708287821.1766348  ZHGuUjozc8LEyA      Job_5\n",
              "5   6  Person_6   36  City_B  1708287821.9459782  YE5uJxF3M/DdYw      Job_6\n",
              "6   7  Person_7   37  City_B  1708287822.7125108  xTtfcsW2gvisCQ      Job_7\n",
              "7   8  Person_8   38  City_B   1708287823.483286  8P+G9GcOVpxYVA      Job_8"
            ]
          },
          "metadata": {},
          "output_type": "display_data"
        }
      ],
      "source": [
        "# print all\n",
        "people_sql = conn.sql(\"SELECT * FROM people_merge\").df()\n",
        "display(people_sql)"
      ]
    },
    {
      "cell_type": "code",
      "execution_count": 45,
      "metadata": {},
      "outputs": [
        {
          "data": {
            "text/html": [
              "<div>\n",
              "<style scoped>\n",
              "    .dataframe tbody tr th:only-of-type {\n",
              "        vertical-align: middle;\n",
              "    }\n",
              "\n",
              "    .dataframe tbody tr th {\n",
              "        vertical-align: top;\n",
              "    }\n",
              "\n",
              "    .dataframe thead th {\n",
              "        text-align: right;\n",
              "    }\n",
              "</style>\n",
              "<table border=\"1\" class=\"dataframe\">\n",
              "  <thead>\n",
              "    <tr style=\"text-align: right;\">\n",
              "      <th></th>\n",
              "      <th>sum(age)</th>\n",
              "    </tr>\n",
              "  </thead>\n",
              "  <tbody>\n",
              "    <tr>\n",
              "      <th>0</th>\n",
              "      <td>266.0</td>\n",
              "    </tr>\n",
              "  </tbody>\n",
              "</table>\n",
              "</div>"
            ],
            "text/plain": [
              "   sum(age)\n",
              "0     266.0"
            ]
          },
          "metadata": {},
          "output_type": "display_data"
        }
      ],
      "source": [
        "# print sum age\n",
        "people_sql = conn.sql(\"SELECT sum(age) FROM people_merge\").df()\n",
        "display(people_sql)"
      ]
    },
    {
      "cell_type": "markdown",
      "metadata": {
        "id": "kKB2GTB9oVjr"
      },
      "source": [
        "# Solution: First make sure that the following modules are installed:"
      ]
    },
    {
      "cell_type": "code",
      "execution_count": 14,
      "metadata": {
        "id": "xTVvtyqrfVNq"
      },
      "outputs": [
        {
          "name": "stderr",
          "output_type": "stream",
          "text": [
            "UsageError: Line magic function `%%capture` not found.\n"
          ]
        }
      ],
      "source": [
        "#Install the dependencies\n",
        "%%capture\n",
        "!pip install dlt[duckdb]"
      ]
    },
    {
      "cell_type": "code",
      "execution_count": null,
      "metadata": {
        "id": "a2-PRBAkGC2K"
      },
      "outputs": [],
      "source": [
        "# to do: homework :)"
      ]
    },
    {
      "cell_type": "markdown",
      "metadata": {
        "id": "PoTJu4kbGG0z"
      },
      "source": [
        "Questions? difficulties? We are here to help.\n",
        "- DTC data engineering course channel: https://datatalks-club.slack.com/archives/C01FABYF2RG\n",
        "- dlt's DTC cohort channel: https://dlthub-community.slack.com/archives/C06GAEX2VNX"
      ]
    }
  ],
  "metadata": {
    "colab": {
      "provenance": []
    },
    "kernelspec": {
      "display_name": "Python 3",
      "name": "python3"
    },
    "language_info": {
      "codemirror_mode": {
        "name": "ipython",
        "version": 3
      },
      "file_extension": ".py",
      "mimetype": "text/x-python",
      "name": "python",
      "nbconvert_exporter": "python",
      "pygments_lexer": "ipython3",
      "version": "3.8.10"
    }
  },
  "nbformat": 4,
  "nbformat_minor": 0
}
